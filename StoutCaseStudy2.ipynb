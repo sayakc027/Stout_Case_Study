{
 "cells": [
  {
   "cell_type": "markdown",
   "metadata": {},
   "source": [
    "# Stout Case Study - 2"
   ]
  },
  {
   "cell_type": "markdown",
   "metadata": {},
   "source": [
    "## Importing Required Libraries "
   ]
  },
  {
   "cell_type": "code",
   "execution_count": 1,
   "metadata": {},
   "outputs": [],
   "source": [
    "import csv, sqlite3\n",
    "import pandas as pd\n",
    "import warnings\n",
    "warnings.filterwarnings('ignore')"
   ]
  },
  {
   "cell_type": "markdown",
   "metadata": {},
   "source": [
    "## Reading the Data"
   ]
  },
  {
   "cell_type": "code",
   "execution_count": 2,
   "metadata": {},
   "outputs": [],
   "source": [
    "conn = sqlite3.connect(\"casedb.db\")\n",
    "dataframe = pd.read_csv('E:\\Stout\\Case Study\\casestudy2.csv')\n",
    "dataframe.to_sql(\"casedb\", conn, if_exists='append', index=False)\n",
    "\n",
    "conn.commit()"
   ]
  },
  {
   "cell_type": "code",
   "execution_count": 3,
   "metadata": {},
   "outputs": [],
   "source": [
    "cur = conn.cursor()"
   ]
  },
  {
   "cell_type": "markdown",
   "metadata": {},
   "source": [
    "## Total revenue for the current year"
   ]
  },
  {
   "cell_type": "markdown",
   "metadata": {},
   "source": [
    "### 2015"
   ]
  },
  {
   "cell_type": "code",
   "execution_count": 4,
   "metadata": {},
   "outputs": [
    {
     "name": "stdout",
     "output_type": "stream",
     "text": [
      "Total Revenue - 2015 : 116146996.76\n"
     ]
    }
   ],
   "source": [
    "sql_command = \"SELECT round(sum(net_revenue),2) FROM casedb where year = 2015\"\n",
    "cur.execute(sql_command) \n",
    "\n",
    "ans = cur.fetchall()\n",
    "print(\"Total Revenue - 2015 :\", ans[0][0]) \n",
    "total_revenue2015 = ans[0][0]"
   ]
  },
  {
   "cell_type": "markdown",
   "metadata": {},
   "source": [
    "### 2016"
   ]
  },
  {
   "cell_type": "code",
   "execution_count": 5,
   "metadata": {},
   "outputs": [
    {
     "name": "stdout",
     "output_type": "stream",
     "text": [
      "Total Revenue - 2016: 102923774.36\n"
     ]
    }
   ],
   "source": [
    "sql_command = \"SELECT round(sum(net_revenue),2) FROM casedb where year = 2016\"\n",
    "cur.execute(sql_command) \n",
    "\n",
    "ans = cur.fetchall()\n",
    "print(\"Total Revenue - 2016:\", ans[0][0]) \n",
    "total_revenue2016 = ans[0][0]"
   ]
  },
  {
   "cell_type": "markdown",
   "metadata": {},
   "source": [
    "### 2017"
   ]
  },
  {
   "cell_type": "code",
   "execution_count": 6,
   "metadata": {},
   "outputs": [
    {
     "name": "stdout",
     "output_type": "stream",
     "text": [
      "Total Revenue - 2017: 125669980.12\n"
     ]
    }
   ],
   "source": [
    "sql_command = \"SELECT round(sum(net_revenue),2) FROM casedb where year = 2017\"\n",
    "cur.execute(sql_command) \n",
    "\n",
    "ans = cur.fetchall()\n",
    "print(\"Total Revenue - 2017:\", ans[0][0]) \n",
    "total_revenue2017 = ans[0][0]"
   ]
  },
  {
   "cell_type": "markdown",
   "metadata": {},
   "source": [
    "## New Customer Revenue \n",
    "\n",
    "### e.g. new customers not present in previous year only"
   ]
  },
  {
   "cell_type": "markdown",
   "metadata": {},
   "source": [
    "### 2016"
   ]
  },
  {
   "cell_type": "code",
   "execution_count": 7,
   "metadata": {},
   "outputs": [
    {
     "name": "stdout",
     "output_type": "stream",
     "text": [
      "New Customer Revenue - 2016: 72981964.04\n"
     ]
    }
   ],
   "source": [
    "sql_command = \"\"\"SELECT round(sum(net_revenue),2) FROM casedb \n",
    "                where year = 2016 AND customer_email not in (select customer_email from casedb where year = 2015)\"\"\"\n",
    "cur.execute(sql_command) \n",
    "\n",
    "ans = cur.fetchall()\n",
    "print(\"New Customer Revenue - 2016:\", ans[0][0])"
   ]
  },
  {
   "cell_type": "markdown",
   "metadata": {},
   "source": [
    "### 2017"
   ]
  },
  {
   "cell_type": "code",
   "execution_count": 8,
   "metadata": {},
   "outputs": [
    {
     "name": "stdout",
     "output_type": "stream",
     "text": [
      "New Customer Revenue - 2017: 115104940.16\n"
     ]
    }
   ],
   "source": [
    "sql_command = \"\"\"SELECT round(sum(net_revenue),2) FROM casedb \n",
    "                where year = 2017 AND customer_email not in (select customer_email from casedb where year = 2016)\"\"\"\n",
    "cur.execute(sql_command) \n",
    "\n",
    "ans = cur.fetchall()\n",
    "print(\"New Customer Revenue - 2017:\", ans[0][0])"
   ]
  },
  {
   "cell_type": "markdown",
   "metadata": {},
   "source": [
    "## Existing Customer Growth \n",
    "### Revenue of existing customers for current year – Revenue of existing customers from existing year"
   ]
  },
  {
   "cell_type": "markdown",
   "metadata": {},
   "source": [
    "### 2016"
   ]
  },
  {
   "cell_type": "code",
   "execution_count": 11,
   "metadata": {},
   "outputs": [
    {
     "name": "stdout",
     "output_type": "stream",
     "text": [
      "Existing Customer Growth - 2016 : 81341.83999999985\n"
     ]
    }
   ],
   "source": [
    "sql_command = \"\"\"SELECT round(sum(net_revenue),2) FROM casedb \n",
    "                where year = 2016 AND customer_email in (select customer_email from casedb where year = 2015);\"\"\"\n",
    "cur.execute(sql_command) \n",
    "\n",
    "ans = cur.fetchall()\n",
    "existing_customer_revenue_2016 = ans[0][0]\n",
    "\n",
    "sql_command = \"\"\"SELECT round(sum(net_revenue),2) FROM casedb \n",
    "                where year = 2015 AND customer_email in (select customer_email from casedb where year = 2016);\"\"\"\n",
    "cur.execute(sql_command) \n",
    "\n",
    "ans = cur.fetchall()\n",
    "existing_customer_revenue_2015 = ans[0][0]\n",
    "\n",
    "print(\"Existing Customer Growth - 2016 :\", existing_customer_revenue_2016 - existing_customer_revenue_2015)\n",
    "existing_customer_growth_2016 = existing_customer_revenue_2016 - existing_customer_revenue_2015"
   ]
  },
  {
   "cell_type": "markdown",
   "metadata": {},
   "source": [
    "### 2017"
   ]
  },
  {
   "cell_type": "code",
   "execution_count": 12,
   "metadata": {},
   "outputs": [
    {
     "name": "stdout",
     "output_type": "stream",
     "text": [
      "Existing Customer Growth - 2017 : 82445.36000000127\n"
     ]
    }
   ],
   "source": [
    "sql_command = \"\"\"SELECT round(sum(net_revenue),2) FROM casedb \n",
    "                where year = 2017 AND customer_email in (select customer_email from casedb where year = 2016);\"\"\"\n",
    "cur.execute(sql_command) \n",
    "\n",
    "ans = cur.fetchall()\n",
    "existing_customer_revenue_2017 = ans[0][0]\n",
    "\n",
    "sql_command = \"\"\"SELECT round(sum(net_revenue),2) FROM casedb \n",
    "                where year = 2016\n",
    "                AND customer_email in (select customer_email from casedb where year = 2017);\"\"\"\n",
    "cur.execute(sql_command) \n",
    "\n",
    "ans = cur.fetchall()\n",
    "existing_customer_revenue_2016 = ans[0][0]\n",
    "\n",
    "print(\"Existing Customer Growth - 2017 :\", existing_customer_revenue_2017 - existing_customer_revenue_2016)\n",
    "existing_customer_growth_2017 = existing_customer_revenue_2017 - existing_customer_revenue_2016"
   ]
  },
  {
   "cell_type": "markdown",
   "metadata": {},
   "source": [
    "## Revenue lost from attrition"
   ]
  },
  {
   "cell_type": "markdown",
   "metadata": {},
   "source": [
    "### 2016"
   ]
  },
  {
   "cell_type": "code",
   "execution_count": 13,
   "metadata": {},
   "outputs": [
    {
     "name": "stdout",
     "output_type": "stream",
     "text": [
      "Revenue lost from attrition - 2016: 86286528.28\n"
     ]
    }
   ],
   "source": [
    "sql_command = \"\"\"SELECT round(sum(net_revenue),2) FROM casedb \n",
    "                where year = 2015 \n",
    "                AND \n",
    "                customer_email not in (select customer_email from casedb where year = 2016);\"\"\"\n",
    "cur.execute(sql_command) \n",
    "\n",
    "ans = cur.fetchall()\n",
    "print(\"Revenue lost from attrition - 2016:\", ans[0][0])\n",
    "attrition_revenue_loss_2016 : ans[0][0]"
   ]
  },
  {
   "cell_type": "markdown",
   "metadata": {},
   "source": [
    "### 2017"
   ]
  },
  {
   "cell_type": "code",
   "execution_count": 14,
   "metadata": {},
   "outputs": [
    {
     "name": "stdout",
     "output_type": "stream",
     "text": [
      "Revenue lost from attrition - 2017: 92441179.76\n"
     ]
    }
   ],
   "source": [
    "sql_command = \"\"\"SELECT round(sum(net_revenue),2) FROM casedb \n",
    "                where year = 2016 \n",
    "                AND \n",
    "                customer_email not in (select customer_email from casedb where year = 2017);\"\"\"\n",
    "cur.execute(sql_command) \n",
    "\n",
    "ans = cur.fetchall()\n",
    "print(\"Revenue lost from attrition - 2017:\", ans[0][0])\n",
    "attrition_revenue_loss_2017 : ans[0][0]"
   ]
  },
  {
   "cell_type": "markdown",
   "metadata": {},
   "source": [
    "## Existing Customer Revenue Current/Prior Year"
   ]
  },
  {
   "cell_type": "markdown",
   "metadata": {},
   "source": [
    "### 2015"
   ]
  },
  {
   "cell_type": "code",
   "execution_count": 15,
   "metadata": {},
   "outputs": [
    {
     "name": "stdout",
     "output_type": "stream",
     "text": [
      "Existing Customer Revenue - 2015: 29860468.48\n"
     ]
    }
   ],
   "source": [
    "print(\"Existing Customer Revenue - 2015:\" , existing_customer_revenue_2015)"
   ]
  },
  {
   "cell_type": "markdown",
   "metadata": {},
   "source": [
    "### 2016"
   ]
  },
  {
   "cell_type": "code",
   "execution_count": 16,
   "metadata": {},
   "outputs": [
    {
     "name": "stdout",
     "output_type": "stream",
     "text": [
      "Existing Customer Revenue - 2016: 10482594.6\n"
     ]
    }
   ],
   "source": [
    "print(\"Existing Customer Revenue - 2016:\" , existing_customer_revenue_2016)"
   ]
  },
  {
   "cell_type": "markdown",
   "metadata": {},
   "source": [
    "### 2017"
   ]
  },
  {
   "cell_type": "code",
   "execution_count": 17,
   "metadata": {},
   "outputs": [
    {
     "name": "stdout",
     "output_type": "stream",
     "text": [
      "Existing Customer Revenue - 2017: 10565039.96\n"
     ]
    }
   ],
   "source": [
    "print(\"Existing Customer Revenue - 2017:\" , existing_customer_revenue_2017)"
   ]
  },
  {
   "cell_type": "markdown",
   "metadata": {},
   "source": [
    "## Total Customers"
   ]
  },
  {
   "cell_type": "markdown",
   "metadata": {},
   "source": [
    "### 2015"
   ]
  },
  {
   "cell_type": "code",
   "execution_count": 18,
   "metadata": {},
   "outputs": [
    {
     "name": "stdout",
     "output_type": "stream",
     "text": [
      "Total Customers 2015: 231294\n"
     ]
    }
   ],
   "source": [
    "sql_command = \"\"\"SELECT count(distinct customer_email) FROM casedb \n",
    "                 where year = 2015;\"\"\"\n",
    "cur.execute(sql_command) \n",
    "\n",
    "ans = cur.fetchall()\n",
    "print(\"Total Customers 2015:\", ans[0][0])"
   ]
  },
  {
   "cell_type": "markdown",
   "metadata": {},
   "source": [
    "### 2016"
   ]
  },
  {
   "cell_type": "code",
   "execution_count": 19,
   "metadata": {},
   "outputs": [
    {
     "name": "stdout",
     "output_type": "stream",
     "text": [
      "Total Customers 2016: 204646\n"
     ]
    }
   ],
   "source": [
    "sql_command = \"\"\"SELECT count(distinct customer_email) FROM casedb \n",
    "                 where year = 2016;\"\"\"\n",
    "cur.execute(sql_command) \n",
    "\n",
    "ans = cur.fetchall()\n",
    "print(\"Total Customers 2016:\", ans[0][0])"
   ]
  },
  {
   "cell_type": "markdown",
   "metadata": {},
   "source": [
    "### 2017"
   ]
  },
  {
   "cell_type": "code",
   "execution_count": 20,
   "metadata": {},
   "outputs": [
    {
     "name": "stdout",
     "output_type": "stream",
     "text": [
      "Total Customers 2017: 249987\n"
     ]
    }
   ],
   "source": [
    "sql_command = \"\"\"SELECT count(distinct customer_email) FROM casedb \n",
    "                 where year = 2017;\"\"\"\n",
    "cur.execute(sql_command) \n",
    "\n",
    "ans = cur.fetchall()\n",
    "print(\"Total Customers 2017:\", ans[0][0])"
   ]
  },
  {
   "cell_type": "markdown",
   "metadata": {},
   "source": [
    "## New Customers"
   ]
  },
  {
   "cell_type": "markdown",
   "metadata": {},
   "source": [
    "### 2016"
   ]
  },
  {
   "cell_type": "code",
   "execution_count": 21,
   "metadata": {},
   "outputs": [
    {
     "name": "stdout",
     "output_type": "stream",
     "text": [
      "New Customers in 2016: 145062\n"
     ]
    }
   ],
   "source": [
    "sql_command = \"\"\"SELECT count(distinct customer_email) FROM casedb \n",
    "                 where year = 2016 and customer_email not in (select customer_email from casedb where year = 2015);\"\"\"\n",
    "cur.execute(sql_command) \n",
    "\n",
    "ans = cur.fetchall()\n",
    "print(\"New Customers in 2016:\", ans[0][0])"
   ]
  },
  {
   "cell_type": "markdown",
   "metadata": {},
   "source": [
    "### 2017"
   ]
  },
  {
   "cell_type": "code",
   "execution_count": 22,
   "metadata": {},
   "outputs": [
    {
     "name": "stdout",
     "output_type": "stream",
     "text": [
      "New Customers in 2017: 229028\n"
     ]
    }
   ],
   "source": [
    "sql_command = \"\"\"SELECT count(distinct customer_email) FROM casedb \n",
    "                 where year = 2017 and customer_email not in (select customer_email from casedb where year = 2016);\"\"\"\n",
    "cur.execute(sql_command) \n",
    "\n",
    "ans = cur.fetchall()\n",
    "print(\"New Customers in 2017:\", ans[0][0])"
   ]
  },
  {
   "cell_type": "markdown",
   "metadata": {},
   "source": [
    "## Lost Customers"
   ]
  },
  {
   "cell_type": "markdown",
   "metadata": {},
   "source": [
    "### 2016"
   ]
  },
  {
   "cell_type": "code",
   "execution_count": 23,
   "metadata": {},
   "outputs": [
    {
     "name": "stdout",
     "output_type": "stream",
     "text": [
      "Lost Customers in 2016: 171710\n"
     ]
    }
   ],
   "source": [
    "sql_command = \"\"\"SELECT count(distinct customer_email) FROM casedb \n",
    "                 where year = 2015 and customer_email not in (select customer_email from casedb where year = 2016);\"\"\"\n",
    "cur.execute(sql_command) \n",
    "\n",
    "ans = cur.fetchall()\n",
    "print(\"Lost Customers in 2016:\", ans[0][0])"
   ]
  },
  {
   "cell_type": "markdown",
   "metadata": {},
   "source": [
    "### 2017"
   ]
  },
  {
   "cell_type": "code",
   "execution_count": 24,
   "metadata": {},
   "outputs": [
    {
     "name": "stdout",
     "output_type": "stream",
     "text": [
      "Lost Customers in 2017: 183687\n"
     ]
    }
   ],
   "source": [
    "sql_command = \"\"\"SELECT count(distinct customer_email) FROM casedb \n",
    "                 where year = 2016 and customer_email not in (select customer_email from casedb where year = 2017);\"\"\"\n",
    "cur.execute(sql_command) \n",
    "\n",
    "ans = cur.fetchall()\n",
    "print(\"Lost Customers in 2017:\", ans[0][0])"
   ]
  },
  {
   "cell_type": "code",
   "execution_count": 26,
   "metadata": {},
   "outputs": [],
   "source": [
    "conn.close()"
   ]
  }
 ],
 "metadata": {
  "kernelspec": {
   "display_name": "Python 3",
   "language": "python",
   "name": "python3"
  },
  "language_info": {
   "codemirror_mode": {
    "name": "ipython",
    "version": 3
   },
   "file_extension": ".py",
   "mimetype": "text/x-python",
   "name": "python",
   "nbconvert_exporter": "python",
   "pygments_lexer": "ipython3",
   "version": "3.7.6"
  }
 },
 "nbformat": 4,
 "nbformat_minor": 4
}
